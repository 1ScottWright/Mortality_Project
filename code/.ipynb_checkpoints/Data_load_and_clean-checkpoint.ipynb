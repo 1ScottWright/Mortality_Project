{
 "cells": [
  {
   "cell_type": "code",
   "execution_count": 18,
   "metadata": {},
   "outputs": [],
   "source": [
    "import matplotlib.pyplot as plt\n",
    "import numpy as np\n",
    "import pandas as pd\n",
    "\n",
    "% matplotlib inline"
   ]
  },
  {
   "cell_type": "code",
   "execution_count": 15,
   "metadata": {},
   "outputs": [],
   "source": [
    "male = pd.read_csv('../data/DeathProbsE_M_Hist_TR2018.csv', skiprows = 1, index_col=0).T\n",
    "female = pd.read_csv('../data/DeathProbsE_F_Hist_TR2018.csv', skiprows = 1, index_col=0).T"
   ]
  },
  {
   "cell_type": "code",
   "execution_count": 16,
   "metadata": {},
   "outputs": [],
   "source": [
    "male.rename_axis('age', axis = 1, inplace = True)\n",
    "female.rename_axis('age', axis = 1, inplace = True)"
   ]
  },
  {
   "cell_type": "code",
   "execution_count": 17,
   "metadata": {},
   "outputs": [
    {
     "data": {
      "text/html": [
       "<div>\n",
       "<style scoped>\n",
       "    .dataframe tbody tr th:only-of-type {\n",
       "        vertical-align: middle;\n",
       "    }\n",
       "\n",
       "    .dataframe tbody tr th {\n",
       "        vertical-align: top;\n",
       "    }\n",
       "\n",
       "    .dataframe thead th {\n",
       "        text-align: right;\n",
       "    }\n",
       "</style>\n",
       "<table border=\"1\" class=\"dataframe\">\n",
       "  <thead>\n",
       "    <tr style=\"text-align: right;\">\n",
       "      <th>age</th>\n",
       "      <th>1900</th>\n",
       "      <th>1901</th>\n",
       "      <th>1902</th>\n",
       "      <th>1903</th>\n",
       "      <th>1904</th>\n",
       "      <th>1905</th>\n",
       "      <th>1906</th>\n",
       "      <th>1907</th>\n",
       "      <th>1908</th>\n",
       "      <th>1909</th>\n",
       "      <th>...</th>\n",
       "      <th>2006</th>\n",
       "      <th>2007</th>\n",
       "      <th>2008</th>\n",
       "      <th>2009</th>\n",
       "      <th>2010</th>\n",
       "      <th>2011</th>\n",
       "      <th>2012</th>\n",
       "      <th>2013</th>\n",
       "      <th>2014</th>\n",
       "      <th>2015</th>\n",
       "    </tr>\n",
       "  </thead>\n",
       "  <tbody>\n",
       "    <tr>\n",
       "      <th>0</th>\n",
       "      <td>0.119694</td>\n",
       "      <td>0.104258</td>\n",
       "      <td>0.102616</td>\n",
       "      <td>0.098039</td>\n",
       "      <td>0.102720</td>\n",
       "      <td>0.103581</td>\n",
       "      <td>0.106581</td>\n",
       "      <td>0.102300</td>\n",
       "      <td>0.098422</td>\n",
       "      <td>0.093674</td>\n",
       "      <td>...</td>\n",
       "      <td>0.006055</td>\n",
       "      <td>0.006096</td>\n",
       "      <td>0.005952</td>\n",
       "      <td>0.005728</td>\n",
       "      <td>0.005562</td>\n",
       "      <td>0.005513</td>\n",
       "      <td>0.005435</td>\n",
       "      <td>0.005377</td>\n",
       "      <td>0.005313</td>\n",
       "      <td>0.005374</td>\n",
       "    </tr>\n",
       "    <tr>\n",
       "      <th>1</th>\n",
       "      <td>0.036172</td>\n",
       "      <td>0.030606</td>\n",
       "      <td>0.030162</td>\n",
       "      <td>0.028194</td>\n",
       "      <td>0.028747</td>\n",
       "      <td>0.026746</td>\n",
       "      <td>0.028641</td>\n",
       "      <td>0.026533</td>\n",
       "      <td>0.025141</td>\n",
       "      <td>0.024274</td>\n",
       "      <td>...</td>\n",
       "      <td>0.000433</td>\n",
       "      <td>0.000434</td>\n",
       "      <td>0.000416</td>\n",
       "      <td>0.000373</td>\n",
       "      <td>0.000396</td>\n",
       "      <td>0.000382</td>\n",
       "      <td>0.000377</td>\n",
       "      <td>0.000379</td>\n",
       "      <td>0.000346</td>\n",
       "      <td>0.000353</td>\n",
       "    </tr>\n",
       "    <tr>\n",
       "      <th>2</th>\n",
       "      <td>0.017817</td>\n",
       "      <td>0.015101</td>\n",
       "      <td>0.014885</td>\n",
       "      <td>0.013924</td>\n",
       "      <td>0.014194</td>\n",
       "      <td>0.013218</td>\n",
       "      <td>0.014142</td>\n",
       "      <td>0.013114</td>\n",
       "      <td>0.012435</td>\n",
       "      <td>0.012012</td>\n",
       "      <td>...</td>\n",
       "      <td>0.000276</td>\n",
       "      <td>0.000256</td>\n",
       "      <td>0.000241</td>\n",
       "      <td>0.000241</td>\n",
       "      <td>0.000214</td>\n",
       "      <td>0.000218</td>\n",
       "      <td>0.000233</td>\n",
       "      <td>0.000221</td>\n",
       "      <td>0.000221</td>\n",
       "      <td>0.000231</td>\n",
       "    </tr>\n",
       "    <tr>\n",
       "      <th>3</th>\n",
       "      <td>0.012922</td>\n",
       "      <td>0.010958</td>\n",
       "      <td>0.010802</td>\n",
       "      <td>0.010107</td>\n",
       "      <td>0.010302</td>\n",
       "      <td>0.009596</td>\n",
       "      <td>0.010265</td>\n",
       "      <td>0.009521</td>\n",
       "      <td>0.009030</td>\n",
       "      <td>0.008724</td>\n",
       "      <td>...</td>\n",
       "      <td>0.000184</td>\n",
       "      <td>0.000192</td>\n",
       "      <td>0.000188</td>\n",
       "      <td>0.000186</td>\n",
       "      <td>0.000162</td>\n",
       "      <td>0.000166</td>\n",
       "      <td>0.000177</td>\n",
       "      <td>0.000162</td>\n",
       "      <td>0.000162</td>\n",
       "      <td>0.000165</td>\n",
       "    </tr>\n",
       "    <tr>\n",
       "      <th>4</th>\n",
       "      <td>0.010310</td>\n",
       "      <td>0.008746</td>\n",
       "      <td>0.008622</td>\n",
       "      <td>0.008069</td>\n",
       "      <td>0.008224</td>\n",
       "      <td>0.007662</td>\n",
       "      <td>0.008194</td>\n",
       "      <td>0.007602</td>\n",
       "      <td>0.007211</td>\n",
       "      <td>0.006967</td>\n",
       "      <td>...</td>\n",
       "      <td>0.000160</td>\n",
       "      <td>0.000148</td>\n",
       "      <td>0.000153</td>\n",
       "      <td>0.000150</td>\n",
       "      <td>0.000132</td>\n",
       "      <td>0.000143</td>\n",
       "      <td>0.000134</td>\n",
       "      <td>0.000133</td>\n",
       "      <td>0.000131</td>\n",
       "      <td>0.000129</td>\n",
       "    </tr>\n",
       "  </tbody>\n",
       "</table>\n",
       "<p>5 rows × 116 columns</p>\n",
       "</div>"
      ],
      "text/plain": [
       "age      1900      1901      1902      1903      1904      1905      1906  \\\n",
       "0    0.119694  0.104258  0.102616  0.098039  0.102720  0.103581  0.106581   \n",
       "1    0.036172  0.030606  0.030162  0.028194  0.028747  0.026746  0.028641   \n",
       "2    0.017817  0.015101  0.014885  0.013924  0.014194  0.013218  0.014142   \n",
       "3    0.012922  0.010958  0.010802  0.010107  0.010302  0.009596  0.010265   \n",
       "4    0.010310  0.008746  0.008622  0.008069  0.008224  0.007662  0.008194   \n",
       "\n",
       "age      1907      1908      1909    ...         2006      2007      2008  \\\n",
       "0    0.102300  0.098422  0.093674    ...     0.006055  0.006096  0.005952   \n",
       "1    0.026533  0.025141  0.024274    ...     0.000433  0.000434  0.000416   \n",
       "2    0.013114  0.012435  0.012012    ...     0.000276  0.000256  0.000241   \n",
       "3    0.009521  0.009030  0.008724    ...     0.000184  0.000192  0.000188   \n",
       "4    0.007602  0.007211  0.006967    ...     0.000160  0.000148  0.000153   \n",
       "\n",
       "age      2009      2010      2011      2012      2013      2014      2015  \n",
       "0    0.005728  0.005562  0.005513  0.005435  0.005377  0.005313  0.005374  \n",
       "1    0.000373  0.000396  0.000382  0.000377  0.000379  0.000346  0.000353  \n",
       "2    0.000241  0.000214  0.000218  0.000233  0.000221  0.000221  0.000231  \n",
       "3    0.000186  0.000162  0.000166  0.000177  0.000162  0.000162  0.000165  \n",
       "4    0.000150  0.000132  0.000143  0.000134  0.000133  0.000131  0.000129  \n",
       "\n",
       "[5 rows x 116 columns]"
      ]
     },
     "execution_count": 17,
     "metadata": {},
     "output_type": "execute_result"
    }
   ],
   "source": [
    "female.head()"
   ]
  },
  {
   "cell_type": "code",
   "execution_count": 20,
   "metadata": {},
   "outputs": [],
   "source": [
    "def plot_age(df, age):\n",
    "    df.iloc[age,:].plot(kind = 'line')\n",
    "    plt.show();\n",
    "    pass"
   ]
  },
  {
   "cell_type": "code",
   "execution_count": 21,
   "metadata": {},
   "outputs": [
    {
     "data": {
      "image/png": "[encoded data removed]",
      "text/plain": [
       "<matplotlib.figure.Figure at 0x10e4a5438>"
      ]
     },
     "metadata": {},
     "output_type": "display_data"
    }
   ],
   "source": [
    "# you can see Spanish flu and world wars\n",
    "plot_age(male,45)"
   ]
  },
  {
   "cell_type": "code",
   "execution_count": 22,
   "metadata": {},
   "outputs": [
    {
     "data": {
      "image/png": "[encoded data removed]",
      "text/plain": [
       "<matplotlib.figure.Figure at 0x107fef208>"
      ]
     },
     "metadata": {},
     "output_type": "display_data"
    }
   ],
   "source": [
    "plot_age(female, 18)"
   ]
  },
  {
   "cell_type": "code",
   "execution_count": 23,
   "metadata": {},
   "outputs": [
    {
     "data": {
      "image/png": "[encoded data removed]",
      "text/plain": [
       "<matplotlib.figure.Figure at 0x10899c470>"
      ]
     },
     "metadata": {},
     "output_type": "display_data"
    }
   ],
   "source": [
    "plot_age(male, 75)"
   ]
  },
  {
   "cell_type": "code",
   "execution_count": null,
   "metadata": {},
   "outputs": [],
   "source": [
    "def plot_rate_of_change(df, age, years = 25):\n",
    "    # plots the rate of change for the most recent 'years' years\n",
    "    # this is the mortality improvement or disimprovemennt for those years\n",
    "    \n",
    "    "
   ]
  },
  {
   "cell_type": "code",
   "execution_count": 28,
   "metadata": {},
   "outputs": [],
   "source": [
    "vals = []\n",
    "for each in range(25):\n",
    "    vals.append(male.iloc[35,-25+each:-24+each]-male.iloc[35,-26+each:-25+each])"
   ]
  },
  {
   "cell_type": "code",
   "execution_count": 33,
   "metadata": {},
   "outputs": [
    {
     "data": {
      "text/plain": [
       "[]"
      ]
     },
     "execution_count": 33,
     "metadata": {},
     "output_type": "execute_result"
    },
    {
     "data": {
      "image/png": "[encoded data removed]",
      "text/plain": [
       "<matplotlib.figure.Figure at 0x112948f98>"
      ]
     },
     "metadata": {},
     "output_type": "display_data"
    }
   ],
   "source": [
    "plt.plot(x = range(len(vals)), y=vals, kind='line')"
   ]
  },
  {
   "cell_type": "code",
   "execution_count": 34,
   "metadata": {},
   "outputs": [
    {
     "data": {
      "text/plain": [
       "[age\n",
       " 1990   NaN\n",
       " 1991   NaN\n",
       " Name: 35, dtype: float64, age\n",
       " 1991   NaN\n",
       " 1992   NaN\n",
       " Name: 35, dtype: float64, age\n",
       " 1992   NaN\n",
       " 1993   NaN\n",
       " Name: 35, dtype: float64, age\n",
       " 1993   NaN\n",
       " 1994   NaN\n",
       " Name: 35, dtype: float64, age\n",
       " 1994   NaN\n",
       " 1995   NaN\n",
       " Name: 35, dtype: float64, age\n",
       " 1995   NaN\n",
       " 1996   NaN\n",
       " Name: 35, dtype: float64, age\n",
       " 1996   NaN\n",
       " 1997   NaN\n",
       " Name: 35, dtype: float64, age\n",
       " 1997   NaN\n",
       " 1998   NaN\n",
       " Name: 35, dtype: float64, age\n",
       " 1998   NaN\n",
       " 1999   NaN\n",
       " Name: 35, dtype: float64, age\n",
       " 1999   NaN\n",
       " 2000   NaN\n",
       " Name: 35, dtype: float64, age\n",
       " 2000   NaN\n",
       " 2001   NaN\n",
       " Name: 35, dtype: float64, age\n",
       " 2001   NaN\n",
       " 2002   NaN\n",
       " Name: 35, dtype: float64, age\n",
       " 2002   NaN\n",
       " 2003   NaN\n",
       " Name: 35, dtype: float64, age\n",
       " 2003   NaN\n",
       " 2004   NaN\n",
       " Name: 35, dtype: float64, age\n",
       " 2004   NaN\n",
       " 2005   NaN\n",
       " Name: 35, dtype: float64, age\n",
       " 2005   NaN\n",
       " 2006   NaN\n",
       " Name: 35, dtype: float64, age\n",
       " 2006   NaN\n",
       " 2007   NaN\n",
       " Name: 35, dtype: float64, age\n",
       " 2007   NaN\n",
       " 2008   NaN\n",
       " Name: 35, dtype: float64, age\n",
       " 2008   NaN\n",
       " 2009   NaN\n",
       " Name: 35, dtype: float64, age\n",
       " 2009   NaN\n",
       " 2010   NaN\n",
       " Name: 35, dtype: float64, age\n",
       " 2010   NaN\n",
       " 2011   NaN\n",
       " Name: 35, dtype: float64, age\n",
       " 2011   NaN\n",
       " 2012   NaN\n",
       " Name: 35, dtype: float64, age\n",
       " 2012   NaN\n",
       " 2013   NaN\n",
       " Name: 35, dtype: float64, age\n",
       " 2013   NaN\n",
       " 2014   NaN\n",
       " Name: 35, dtype: float64, age\n",
       " 2014   NaN\n",
       " Name: 35, dtype: float64]"
      ]
     },
     "execution_count": 34,
     "metadata": {},
     "output_type": "execute_result"
    }
   ],
   "source": [
    "vals"
   ]
  },
  {
   "cell_type": "raw",
   "metadata": {},
   "source": [
    "male.diff(axis =1).head(20:50)"
   ]
  },
  {
   "cell_type": "code",
   "execution_count": null,
   "metadata": {},
   "outputs": [],
   "source": []
  }
 ],
 "metadata": {
  "kernelspec": {
   "display_name": "Python [conda env:anaconda3]",
   "language": "python",
   "name": "conda-env-anaconda3-py"
  },
  "language_info": {
   "codemirror_mode": {
    "name": "ipython",
    "version": 3
   },
   "file_extension": ".py",
   "mimetype": "text/x-python",
   "name": "python",
   "nbconvert_exporter": "python",
   "pygments_lexer": "ipython3",
   "version": "3.6.4"
  }
 },
 "nbformat": 4,
 "nbformat_minor": 2
}
